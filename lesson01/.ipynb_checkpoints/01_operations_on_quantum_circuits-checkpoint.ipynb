{
 "cells": [
  {
   "cell_type": "markdown",
   "metadata": {},
   "source": [
    "### Operations on Quantum Circuits\n",
    "\n",
    "This is a study notebook created by me for the IBM Quantum Developer using Qiskit Certification.\n",
    "This lesson covers the code necessary to implement the first two topics of the study plan:\n",
    "\n",
    "* Construct multi-qubit quantum registers\n",
    "* Measure quantum circuits in classical registers\n",
    "\n",
    "If you have any questions or suggestions, feel free to contact me on IBM slack @alvaresrod.\n",
    "\n",
    "#### 1  - Construct multi-qubit quantum registers"
   ]
  },
  {
   "cell_type": "code",
   "execution_count": null,
   "metadata": {},
   "outputs": [],
   "source": [
    "import matplotlib\n",
    "from qiskit import QuantumRegister, QuantumCircuit"
   ]
  },
  {
   "cell_type": "code",
   "execution_count": null,
   "metadata": {},
   "outputs": [],
   "source": [
    "#constructing 3 qubit quantum registers\n",
    "qreg = QuantumRegister(3)\n",
    "circuit1 = QuantumCircuit(qreg)"
   ]
  },
  {
   "cell_type": "code",
   "execution_count": null,
   "metadata": {},
   "outputs": [],
   "source": [
    "#visualizing the quantum registers built on last step\n",
    "circuit1.draw()"
   ]
  },
  {
   "cell_type": "code",
   "execution_count": null,
   "metadata": {},
   "outputs": [],
   "source": [
    "#nicer visualization\n",
    "%matplotlib inline\n",
    "circuit1.draw(output='mpl')"
   ]
  },
  {
   "cell_type": "code",
   "execution_count": null,
   "metadata": {},
   "outputs": [],
   "source": [
    "#constructing 3 qubit quantum registers using compact notation\n",
    "qgreg = QuantumRegister(3,'test')\n",
    "circuit2 = QuantumCircuit(qgreg)"
   ]
  },
  {
   "cell_type": "code",
   "execution_count": null,
   "metadata": {},
   "outputs": [],
   "source": [
    "#visualization\n",
    "circuit2.draw()"
   ]
  },
  {
   "cell_type": "markdown",
   "metadata": {},
   "source": [
    "### Question\n",
    "\n",
    "Select the two correct statements that will create one register with 8 qubits:\n",
    "<br>\n",
    "<br>\n",
    "    <input type=\"checkbox\" id=\"a1\" name=\"a1\">\n",
    "    <value for=\"a1\"> A. qreg = QuantumRegister(4, 'qr8') </label> <br>\n",
    "    <input type=\"checkbox\" id=\"b1\" name=\"b1\">\n",
    "    <value for=\"b1\"> B. qreg = QuantumRegister(8) </label> <br>\n",
    "    <input type=\"checkbox\" id=\"c1\" name=\"c1\">\n",
    "    <value for=\"c1\"> C. qreg = QuantumRegister(4, 4) </label> <br>\n",
    "    <input type=\"checkbox\" id=\"d1\" name=\"d1\">\n",
    "    <value for=\"d1\"> D. qreg = QuantumRegister(8, 'qr4') </label> <br>\n",
    "\n",
    "<details>\n",
    "    <br>\n",
    "<summary> Click here to check the answer >> </summary>\n",
    "    >>>\n",
    " \n",
    "    * Correct answers: B and D.\n",
    "    * \"qr4\" is the name assigned to the register, which is optional.\n",
    "\n",
    "</details>\n",
    "<br>"
   ]
  },
  {
   "cell_type": "markdown",
   "metadata": {},
   "source": [
    "#### 2 Measure quantum circuits in classical registers"
   ]
  },
  {
   "cell_type": "code",
   "execution_count": null,
   "metadata": {},
   "outputs": [],
   "source": [
    "from qiskit import QuantumCircuit, assemble, Aer\n",
    "from qiskit.visualization import plot_histogram"
   ]
  },
  {
   "cell_type": "code",
   "execution_count": null,
   "metadata": {},
   "outputs": [],
   "source": [
    "#creating our circuit\n",
    "n = 8\n",
    "n_q = n #number of qubits in the circuit\n",
    "n_b = n #number of clasical bits that will work as output for the qubits\n",
    "qc_output = QuantumCircuit(n_q, n_b) "
   ]
  },
  {
   "cell_type": "code",
   "execution_count": null,
   "metadata": {},
   "outputs": [],
   "source": [
    "#extracting the outputs \n",
    "for j in range(n):\n",
    "    qc_output.measure(j,j)\n",
    "qc_output.draw()"
   ]
  },
  {
   "cell_type": "code",
   "execution_count": null,
   "metadata": {},
   "outputs": [],
   "source": [
    "#Running the circuit\n",
    "sim = Aer.get_backend('qasm_simulator')\n",
    "qobj = assemble(qc_output)\n",
    "result = sim.run(qobj).result()\n",
    "print(\"job finished\")"
   ]
  },
  {
   "cell_type": "code",
   "execution_count": null,
   "metadata": {},
   "outputs": [],
   "source": [
    "counts = result.get_counts()"
   ]
  },
  {
   "cell_type": "code",
   "execution_count": null,
   "metadata": {},
   "outputs": [],
   "source": [
    "plot_histogram(counts)"
   ]
  },
  {
   "cell_type": "markdown",
   "metadata": {},
   "source": [
    "### Question\n",
    "\n",
    "We plotted the output of a circuit composed by eight qubits mapped into eight classical bits, using Qiskit. <br>\n",
    "Based on the histogram below, what is the correct answer?\n",
    "<br>\n",
    "<img src=\"histogram1.png\" alt=\"Histogram\" width=\"500\" height=\"500\">\n",
    "<br>\n",
    "<br>\n",
    "    <input type=\"checkbox\" id=\"a1\" name=\"a1\">\n",
    "    <value for=\"a1\"> A. The value of 8th qubit is 0 </label> <br>\n",
    "    <input type=\"checkbox\" id=\"b1\" name=\"b1\">\n",
    "    <value for=\"b1\"> B. The value of the 7th qubit is 0 </label> <br>\n",
    "    <input type=\"checkbox\" id=\"c1\" name=\"c1\">\n",
    "    <value for=\"c1\"> C. The value of the 8th qubit is 1 </label> <br>\n",
    "    <input type=\"checkbox\" id=\"d1\" name=\"d1\">\n",
    "    <value for=\"d1\"> D. The value of the 7th qubit is 1 </label> <br>\n",
    "\n",
    "<details>\n",
    "    <br>\n",
    "<summary> Click here to check the answer >> </summary>\n",
    "    >>>\n",
    " \n",
    "    * Correct answer: C.\n",
    "    * *8th qubit value equals 1, qiskit reads from right to left. \n",
    "\n",
    "</details>\n",
    "<br>"
   ]
  }
 ],
 "metadata": {
  "kernelspec": {
   "display_name": "Python 3",
   "language": "python",
   "name": "python3"
  },
  "language_info": {
   "codemirror_mode": {
    "name": "ipython",
    "version": 3
   },
   "file_extension": ".py",
   "mimetype": "text/x-python",
   "name": "python",
   "nbconvert_exporter": "python",
   "pygments_lexer": "ipython3",
   "version": "3.8.5"
  }
 },
 "nbformat": 4,
 "nbformat_minor": 4
}
